{
 "cells": [
  {
   "cell_type": "code",
   "execution_count": 1,
   "id": "d0c9c9f7",
   "metadata": {},
   "outputs": [],
   "source": [
    "import dask.dataframe as dd\n",
    "import numpy as np"
   ]
  },
  {
   "cell_type": "code",
   "execution_count": 2,
   "id": "21e514f0",
   "metadata": {},
   "outputs": [],
   "source": [
    "import matplotlib.pyplot as plt\n",
    "import seaborn as sns"
   ]
  },
  {
   "cell_type": "markdown",
   "id": "07702349",
   "metadata": {},
   "source": [
    "# JOB WORKLOADS"
   ]
  },
  {
   "cell_type": "markdown",
   "id": "de011346",
   "metadata": {},
   "source": [
    "## Importing data"
   ]
  },
  {
   "cell_type": "code",
   "execution_count": 3,
   "id": "7b92a037",
   "metadata": {},
   "outputs": [],
   "source": [
    "column_names_s17 = [\n",
    "  \"create_timestamp\",\n",
    "  \"modify_timestamp\",\n",
    "  \"job_id\",\n",
    "  \"task_id\",\n",
    "  \"instance_num\",\n",
    "  \"status\",\n",
    "  \"plan_cpu\",\n",
    "  \"plan_mem\"\n",
    "]\n",
    "\n",
    "column_types_s17 = {\n",
    "  column_names_s17[0]: 'int64',\n",
    "  column_names_s17[1]: 'int64',\n",
    "  column_names_s17[2]: 'int32',\n",
    "  column_names_s17[3]: 'int32',\n",
    "  column_names_s17[4]: 'int64',\n",
    "  column_names_s17[5]: 'string',\n",
    "  column_names_s17[6]: 'float32',\n",
    "  column_names_s17[7]: 'float64',\n",
    "}\n",
    "\n",
    "df_s17 = dd.read_csv('./s17_batch_task.csv', blocksize=25e8, names=column_types_s17, dtype=column_types_s17)"
   ]
  },
  {
   "cell_type": "code",
   "execution_count": 4,
   "id": "524fa4bb",
   "metadata": {},
   "outputs": [],
   "source": [
    "column_names_s18 = [\n",
    "    \"start_timestamp\",\n",
    "    \"end_timestamp\",\n",
    "    \"job_id\",\n",
    "    \"task_id\",\n",
    "    \"machineID\",\n",
    "    \"status\",\n",
    "    \"seq_no\",\n",
    "    \"total_seq_no\",\n",
    "    \"real_cpu_max\",\n",
    "    \"real_cpu_avg\",\n",
    "    \"real_mem_max\",\n",
    "    \"real_mem_avg\",\n",
    "]\n",
    "\n",
    "column_types_s18_i = {\n",
    "    column_names_s18[0]: object,\n",
    "    column_names_s18[1]: object,\n",
    "    column_names_s18[2]: object,\n",
    "    column_names_s18[3]: object,\n",
    "    column_names_s18[4]: object,\n",
    "    column_names_s18[5]: object,\n",
    "    column_names_s18[6]: object,\n",
    "    column_names_s18[7]: object,\n",
    "    column_names_s18[8]: object,\n",
    "    column_names_s18[9]: object,\n",
    "    column_names_s18[10]: object,\n",
    "    column_names_s18[11]: object,\n",
    "}\n",
    "\n",
    "df_s18_i = dd.read_csv('./s18_batch_instance.csv', blocksize=25e8, names=column_names_s18, dtype=column_types_s18_i)\n",
    "\n",
    "column_types_s18 = {\n",
    "    column_names_s18[0]: 'int64',\n",
    "    column_names_s18[1]: 'int64',\n",
    "    column_names_s18[2]: 'int32',\n",
    "    column_names_s18[3]: 'int32',\n",
    "    column_names_s18[4]: 'int32',\n",
    "    column_names_s18[5]: object,\n",
    "    column_names_s18[6]: 'int32',\n",
    "    column_names_s18[7]: 'int32',\n",
    "    column_names_s18[8]: 'float32',\n",
    "    column_names_s18[9]: 'float32',\n",
    "    column_names_s18[10]: 'float64',\n",
    "    column_names_s18[11]: 'float64',\n",
    "}\n",
    "\n",
    "df_s18 = df_s18_i.fillna(-1).astype(column_types_s18)"
   ]
  },
  {
   "cell_type": "code",
   "execution_count": 4,
   "id": "692adaea",
   "metadata": {},
   "outputs": [],
   "source": [
    "# df_s17.shape[0].compute()\n",
    "\n",
    "# df_s17['job_id'].nunique().compute()\n",
    "\n",
    "# df_s17.query('job_id == ').compute()"
   ]
  },
  {
   "cell_type": "markdown",
   "id": "ea55bf0c",
   "metadata": {},
   "source": [
    "## Numbers in Brief"
   ]
  },
  {
   "cell_type": "code",
   "execution_count": 5,
   "id": "9e4ba414",
   "metadata": {},
   "outputs": [],
   "source": [
    "tasks_per_job = df_s17.groupby('job_id')['task_id'].count()"
   ]
  },
  {
   "cell_type": "code",
   "execution_count": 6,
   "id": "a68bf2ce",
   "metadata": {},
   "outputs": [],
   "source": [
    "tasks_per_job_mean = tasks_per_job.mean().compute()\n",
    "tasks_per_job_max = tasks_per_job.max().compute()\n",
    "tasks_per_job_min = tasks_per_job.min().compute()"
   ]
  },
  {
   "cell_type": "markdown",
   "id": "decc2c5b",
   "metadata": {},
   "source": [
    "### Tasks per Job"
   ]
  },
  {
   "cell_type": "code",
   "execution_count": 7,
   "id": "0ca66220",
   "metadata": {},
   "outputs": [
    {
     "data": {
      "text/plain": [
       "(6.219828584665277, 156, 1)"
      ]
     },
     "execution_count": 7,
     "metadata": {},
     "output_type": "execute_result"
    }
   ],
   "source": [
    "tasks_per_job_mean, tasks_per_job_max, tasks_per_job_min"
   ]
  },
  {
   "cell_type": "code",
   "execution_count": 8,
   "id": "8dea21b9",
   "metadata": {},
   "outputs": [],
   "source": [
    "# df_s17.query('task_id == 2').compute()"
   ]
  },
  {
   "cell_type": "code",
   "execution_count": 9,
   "id": "9211a861",
   "metadata": {},
   "outputs": [],
   "source": [
    "instances_per_task = df_s17.groupby('task_id')['instance_num'].sum()"
   ]
  },
  {
   "cell_type": "code",
   "execution_count": 10,
   "id": "6deaf3df",
   "metadata": {},
   "outputs": [],
   "source": [
    "instances_per_task_mean = instances_per_task.mean().compute()\n",
    "instances_per_task_max = instances_per_task.max().compute()\n",
    "instances_per_task_min = instances_per_task.min().compute()"
   ]
  },
  {
   "cell_type": "markdown",
   "id": "8098a7f8",
   "metadata": {},
   "source": [
    "### Instances per Task"
   ]
  },
  {
   "cell_type": "code",
   "execution_count": 11,
   "id": "870a0da5",
   "metadata": {},
   "outputs": [
    {
     "data": {
      "text/plain": [
       "(147.84453713704022, 64486, 1)"
      ]
     },
     "execution_count": 11,
     "metadata": {},
     "output_type": "execute_result"
    }
   ],
   "source": [
    "instances_per_task_mean, instances_per_task_max, instances_per_task_min"
   ]
  },
  {
   "cell_type": "code",
   "execution_count": 12,
   "id": "719e3541",
   "metadata": {},
   "outputs": [],
   "source": [
    "instances_per_job = df_s17.groupby('job_id')['instance_num'].sum()"
   ]
  },
  {
   "cell_type": "code",
   "execution_count": 13,
   "id": "e4da9733",
   "metadata": {},
   "outputs": [],
   "source": [
    "instances_per_job_mean = instances_per_job.mean().compute()\n",
    "instances_per_job_max = instances_per_job.max().compute()\n",
    "instances_per_job_min = instances_per_job.min().compute()"
   ]
  },
  {
   "cell_type": "markdown",
   "id": "bd057b5b",
   "metadata": {},
   "source": [
    "## Instances per Job"
   ]
  },
  {
   "cell_type": "code",
   "execution_count": 14,
   "id": "8064e345",
   "metadata": {},
   "outputs": [
    {
     "data": {
      "text/plain": [
       "(919.5676781715698, 66632, 1)"
      ]
     },
     "execution_count": 14,
     "metadata": {},
     "output_type": "execute_result"
    }
   ],
   "source": [
    "instances_per_job_mean, instances_per_job_max, instances_per_job_min"
   ]
  },
  {
   "cell_type": "markdown",
   "id": "0f5526ab",
   "metadata": {},
   "source": [
    "### Total Jobs in Alibaba 2017 data for job traces"
   ]
  },
  {
   "cell_type": "code",
   "execution_count": 15,
   "id": "529ef2cd",
   "metadata": {},
   "outputs": [
    {
     "data": {
      "text/plain": [
       "12951"
      ]
     },
     "execution_count": 15,
     "metadata": {},
     "output_type": "execute_result"
    }
   ],
   "source": [
    "no_of_jobs_in_alibaba_17 = df_s17['job_id'].nunique().compute()\n",
    "no_of_jobs_in_alibaba_17"
   ]
  },
  {
   "cell_type": "code",
   "execution_count": 16,
   "id": "51151b84",
   "metadata": {},
   "outputs": [],
   "source": [
    "total_vms = df_s18['machineID'].replace(-1, np.NaN).nunique().compute()"
   ]
  },
  {
   "cell_type": "markdown",
   "id": "ee69c131",
   "metadata": {},
   "source": [
    "### Total no of VMs in Alibaba 2017 data for job traces"
   ]
  },
  {
   "cell_type": "code",
   "execution_count": 17,
   "id": "cc927130",
   "metadata": {},
   "outputs": [
    {
     "data": {
      "text/plain": [
       "1293"
      ]
     },
     "execution_count": 17,
     "metadata": {},
     "output_type": "execute_result"
    }
   ],
   "source": [
    "total_vms"
   ]
  },
  {
   "cell_type": "markdown",
   "id": "a7407fbc",
   "metadata": {},
   "source": [
    "### Job execution time v resource utilization"
   ]
  },
  {
   "cell_type": "code",
   "execution_count": null,
   "id": "6929538f",
   "metadata": {},
   "outputs": [],
   "source": []
  },
  {
   "cell_type": "code",
   "execution_count": null,
   "id": "c5999b6b",
   "metadata": {},
   "outputs": [],
   "source": []
  },
  {
   "cell_type": "markdown",
   "id": "20534e42",
   "metadata": {},
   "source": [
    "## Execution Time"
   ]
  },
  {
   "cell_type": "markdown",
   "id": "8d5c43c6",
   "metadata": {},
   "source": [
    "### Job duration"
   ]
  },
  {
   "cell_type": "code",
   "execution_count": 8,
   "id": "993a9b54",
   "metadata": {},
   "outputs": [],
   "source": [
    "job_end = df_s18[['end_timestamp', 'job_id']].replace(-1, np.NaN).dropna().groupby('job_id').max().compute()"
   ]
  },
  {
   "cell_type": "code",
   "execution_count": 6,
   "id": "9c5b4453",
   "metadata": {},
   "outputs": [],
   "source": [
    "job_start = df_s17[['job_id', 'create_timestamp']].replace(-1, np.NaN).groupby('job_id').min().compute()\n",
    "job_end_2 = df_s17[['job_id', 'modify_timestamp']].replace(-1, np.NaN).groupby('job_id').max().compute()"
   ]
  },
  {
   "cell_type": "code",
   "execution_count": null,
   "id": "34cde8e3",
   "metadata": {},
   "outputs": [],
   "source": []
  },
  {
   "cell_type": "markdown",
   "id": "e9b5f216",
   "metadata": {},
   "source": [
    "## modify timestamps > end timestamps \n",
    "\n",
    "Modify timestamps in the `batch_tasks` seems to have the values greater than or equal values compared to the `end_timestamp` values\n",
    "\n",
    "the difference can be seen in the below output where the `job_end_2` from `batch_tasks` have 12893 values greater than or equal to "
   ]
  },
  {
   "cell_type": "code",
   "execution_count": 9,
   "id": "6952df75",
   "metadata": {},
   "outputs": [
    {
     "data": {
      "text/plain": [
       "True     12893\n",
       "False       58\n",
       "dtype: int64"
      ]
     },
     "execution_count": 9,
     "metadata": {},
     "output_type": "execute_result"
    }
   ],
   "source": [
    "(job_end['end_timestamp'].astype('int64') <= job_end_2['modify_timestamp']).value_counts()"
   ]
  },
  {
   "cell_type": "code",
   "execution_count": 10,
   "id": "163ff4bb",
   "metadata": {},
   "outputs": [],
   "source": [
    "exec_each_job = dd.from_array(job_end_2['modify_timestamp'] - job_start['create_timestamp'], columns={\"execution_time\": 'int64'}).compute()"
   ]
  },
  {
   "cell_type": "code",
   "execution_count": 11,
   "id": "a9c9a3bf",
   "metadata": {},
   "outputs": [
    {
     "data": {
      "text/plain": [
       "<AxesSubplot:xlabel='execution_time', ylabel='Proportion'>"
      ]
     },
     "execution_count": 11,
     "metadata": {},
     "output_type": "execute_result"
    },
    {
     "data": {
      "image/png": "[encoded data removed]",
      "text/plain": [
       "<Figure size 432x288 with 1 Axes>"
      ]
     },
     "metadata": {
      "needs_background": "light"
     },
     "output_type": "display_data"
    }
   ],
   "source": [
    "sns.ecdfplot(data=exec_each_job, x=\"execution_time\")"
   ]
  },
  {
   "cell_type": "markdown",
   "id": "ed5075e9",
   "metadata": {},
   "source": [
    "> Some values in the `batch_tasks` modify_timestamp are 0 but the create timestamps are in 57000 which lead to closely -60000 values being shown in the CDF. So below is the plot where negatives values are cutoff\n",
    "\n",
    "## CDF of Job Duration"
   ]
  },
  {
   "cell_type": "code",
   "execution_count": 12,
   "id": "cd87fa09",
   "metadata": {
    "scrolled": true
   },
   "outputs": [
    {
     "data": {
      "text/plain": [
       "<AxesSubplot:xlabel='execution_time', ylabel='Proportion'>"
      ]
     },
     "execution_count": 12,
     "metadata": {},
     "output_type": "execute_result"
    },
    {
     "data": {
      "image/png": "[encoded data removed]",
      "text/plain": [
       "<Figure size 432x288 with 1 Axes>"
      ]
     },
     "metadata": {
      "needs_background": "light"
     },
     "output_type": "display_data"
    }
   ],
   "source": [
    "sns.ecdfplot(data=exec_each_job[exec_each_job['execution_time'] >= 0], x=\"execution_time\")"
   ]
  },
  {
   "cell_type": "markdown",
   "id": "05b6e1a5",
   "metadata": {},
   "source": [
    "> Although there are `12893` jobs with end timestamp from batch_tasks being more accurate than batch_instances, we got 12906 with non negative execution times. This maybe because of the 0.1% of `12893` (~13 records) with negative timestamps which match the exact calculation"
   ]
  },
  {
   "cell_type": "code",
   "execution_count": 13,
   "id": "11b6eca5",
   "metadata": {},
   "outputs": [
    {
     "data": {
      "text/plain": [
       "12906"
      ]
     },
     "execution_count": 13,
     "metadata": {},
     "output_type": "execute_result"
    }
   ],
   "source": [
    "len(exec_each_job[exec_each_job['execution_time'] >= 0])"
   ]
  },
  {
   "cell_type": "code",
   "execution_count": 16,
   "id": "1a14c5f3",
   "metadata": {},
   "outputs": [
    {
     "data": {
      "text/plain": [
       "(create_timestamp   -1078\n",
       " dtype: int64,\n",
       " modify_timestamp    61668\n",
       " dtype: int64)"
      ]
     },
     "execution_count": 16,
     "metadata": {},
     "output_type": "execute_result"
    }
   ],
   "source": [
    "job_start.min(), job_end_2.max()"
   ]
  },
  {
   "cell_type": "code",
   "execution_count": 19,
   "id": "63db804d",
   "metadata": {},
   "outputs": [
    {
     "data": {
      "text/plain": [
       "(1, 64486)"
      ]
     },
     "execution_count": 19,
     "metadata": {},
     "output_type": "execute_result"
    }
   ],
   "source": [
    "df_s17['instance_num'].min().compute(), df_s17['instance_num'].max().compute()"
   ]
  },
  {
   "cell_type": "code",
   "execution_count": 14,
   "id": "f8b44240",
   "metadata": {},
   "outputs": [],
   "source": [
    "tasks_each_job = df_s17[['job_id', 'task_id']].groupby('job_id').count().compute()"
   ]
  },
  {
   "cell_type": "code",
   "execution_count": 15,
   "id": "a740dffc",
   "metadata": {},
   "outputs": [],
   "source": [
    "tasks_each_job = tasks_each_job.rename(columns = {'task_id': 'tasks_num'})"
   ]
  },
  {
   "cell_type": "code",
   "execution_count": 16,
   "id": "87b1bb96",
   "metadata": {},
   "outputs": [
    {
     "data": {
      "text/html": [
       "<div>\n",
       "<style scoped>\n",
       "    .dataframe tbody tr th:only-of-type {\n",
       "        vertical-align: middle;\n",
       "    }\n",
       "\n",
       "    .dataframe tbody tr th {\n",
       "        vertical-align: top;\n",
       "    }\n",
       "\n",
       "    .dataframe thead th {\n",
       "        text-align: right;\n",
       "    }\n",
       "</style>\n",
       "<table border=\"1\" class=\"dataframe\">\n",
       "  <thead>\n",
       "    <tr style=\"text-align: right;\">\n",
       "      <th></th>\n",
       "      <th>tasks_num</th>\n",
       "    </tr>\n",
       "    <tr>\n",
       "      <th>job_id</th>\n",
       "      <th></th>\n",
       "    </tr>\n",
       "  </thead>\n",
       "  <tbody>\n",
       "    <tr>\n",
       "      <th>1</th>\n",
       "      <td>1</td>\n",
       "    </tr>\n",
       "    <tr>\n",
       "      <th>2</th>\n",
       "      <td>2</td>\n",
       "    </tr>\n",
       "    <tr>\n",
       "      <th>3</th>\n",
       "      <td>2</td>\n",
       "    </tr>\n",
       "    <tr>\n",
       "      <th>4</th>\n",
       "      <td>2</td>\n",
       "    </tr>\n",
       "    <tr>\n",
       "      <th>5</th>\n",
       "      <td>2</td>\n",
       "    </tr>\n",
       "    <tr>\n",
       "      <th>...</th>\n",
       "      <td>...</td>\n",
       "    </tr>\n",
       "    <tr>\n",
       "      <th>12947</th>\n",
       "      <td>6</td>\n",
       "    </tr>\n",
       "    <tr>\n",
       "      <th>12948</th>\n",
       "      <td>6</td>\n",
       "    </tr>\n",
       "    <tr>\n",
       "      <th>12949</th>\n",
       "      <td>6</td>\n",
       "    </tr>\n",
       "    <tr>\n",
       "      <th>12950</th>\n",
       "      <td>6</td>\n",
       "    </tr>\n",
       "    <tr>\n",
       "      <th>12951</th>\n",
       "      <td>6</td>\n",
       "    </tr>\n",
       "  </tbody>\n",
       "</table>\n",
       "<p>12951 rows × 1 columns</p>\n",
       "</div>"
      ],
      "text/plain": [
       "        tasks_num\n",
       "job_id           \n",
       "1               1\n",
       "2               2\n",
       "3               2\n",
       "4               2\n",
       "5               2\n",
       "...           ...\n",
       "12947           6\n",
       "12948           6\n",
       "12949           6\n",
       "12950           6\n",
       "12951           6\n",
       "\n",
       "[12951 rows x 1 columns]"
      ]
     },
     "execution_count": 16,
     "metadata": {},
     "output_type": "execute_result"
    }
   ],
   "source": [
    "tasks_each_job"
   ]
  },
  {
   "cell_type": "code",
   "execution_count": null,
   "id": "460bd470",
   "metadata": {},
   "outputs": [],
   "source": [
    "# sns.scatterplot(data=tasks_each_job, )"
   ]
  },
  {
   "cell_type": "code",
   "execution_count": 17,
   "id": "6931e351",
   "metadata": {},
   "outputs": [],
   "source": [
    "exec_e_j_c = exec_each_job[exec_each_job['execution_time'] >= 0]"
   ]
  },
  {
   "cell_type": "code",
   "execution_count": 19,
   "id": "d46b94cb",
   "metadata": {},
   "outputs": [],
   "source": [
    "exec_v_tasks_each_job = dd.concat([exec_e_j_c, tasks_each_job], axis=1, join='inner').compute()"
   ]
  },
  {
   "cell_type": "markdown",
   "id": "1a623b49",
   "metadata": {},
   "source": [
    "**Execution time v num of Tasks**"
   ]
  },
  {
   "cell_type": "code",
   "execution_count": 20,
   "id": "1660c0e7",
   "metadata": {},
   "outputs": [
    {
     "data": {
      "text/plain": [
       "<AxesSubplot:xlabel='tasks_num', ylabel='execution_time'>"
      ]
     },
     "execution_count": 20,
     "metadata": {},
     "output_type": "execute_result"
    },
    {
     "data": {
      "image/png": "[encoded data removed]",
      "text/plain": [
       "<Figure size 432x288 with 1 Axes>"
      ]
     },
     "metadata": {
      "needs_background": "light"
     },
     "output_type": "display_data"
    }
   ],
   "source": [
    "sns.scatterplot(data=exec_v_tasks_each_job, y=\"execution_time\", x=\"tasks_num\")"
   ]
  },
  {
   "cell_type": "markdown",
   "id": "a18578fe",
   "metadata": {},
   "source": [
    "**Correlation between num of tasks and execution time**"
   ]
  },
  {
   "cell_type": "code",
   "execution_count": 21,
   "id": "cc4cd573",
   "metadata": {},
   "outputs": [
    {
     "data": {
      "text/plain": [
       "0.054214873604556915"
      ]
     },
     "execution_count": 21,
     "metadata": {},
     "output_type": "execute_result"
    }
   ],
   "source": [
    "exec_v_tasks_each_job['tasks_num'].corr(exec_v_tasks_each_job['execution_time'])"
   ]
  },
  {
   "cell_type": "markdown",
   "id": "eeea531a",
   "metadata": {},
   "source": [
    "The correlation is low and close to zero. So we can conclude that number of tasks in a job doesnt impact the execution time of the jobs"
   ]
  },
  {
   "cell_type": "markdown",
   "id": "4ddf2464",
   "metadata": {},
   "source": [
    "### TODO\n",
    "\n",
    "* [ ] check if starting timestamps for all task instances in the s_18 data are same\n",
    "* [ ] find the sizes of the maximun values in each column to assign the datatypes\n",
    "* [x] Find out the timestamp unit - (it is in seconds)"
   ]
  },
  {
   "cell_type": "markdown",
   "id": "2bdafe4d",
   "metadata": {},
   "source": [
    "## Resource Demand"
   ]
  },
  {
   "cell_type": "code",
   "execution_count": 5,
   "id": "584955d9",
   "metadata": {},
   "outputs": [],
   "source": [
    "plan_res_job = df_s17[['job_id', 'plan_cpu', 'plan_mem']].dropna().groupby('job_id').mean()"
   ]
  },
  {
   "cell_type": "code",
   "execution_count": 6,
   "id": "2340212b",
   "metadata": {},
   "outputs": [
    {
     "data": {
      "text/html": [
       "<div><strong>Dask DataFrame Structure:</strong></div>\n",
       "<div>\n",
       "<style scoped>\n",
       "    .dataframe tbody tr th:only-of-type {\n",
       "        vertical-align: middle;\n",
       "    }\n",
       "\n",
       "    .dataframe tbody tr th {\n",
       "        vertical-align: top;\n",
       "    }\n",
       "\n",
       "    .dataframe thead th {\n",
       "        text-align: right;\n",
       "    }\n",
       "</style>\n",
       "<table border=\"1\" class=\"dataframe\">\n",
       "  <thead>\n",
       "    <tr style=\"text-align: right;\">\n",
       "      <th></th>\n",
       "      <th>plan_cpu</th>\n",
       "      <th>plan_mem</th>\n",
       "    </tr>\n",
       "    <tr>\n",
       "      <th>npartitions=1</th>\n",
       "      <th></th>\n",
       "      <th></th>\n",
       "    </tr>\n",
       "  </thead>\n",
       "  <tbody>\n",
       "    <tr>\n",
       "      <th></th>\n",
       "      <td>float64</td>\n",
       "      <td>float64</td>\n",
       "    </tr>\n",
       "    <tr>\n",
       "      <th></th>\n",
       "      <td>...</td>\n",
       "      <td>...</td>\n",
       "    </tr>\n",
       "  </tbody>\n",
       "</table>\n",
       "</div>\n",
       "<div>Dask Name: truediv, 9 tasks</div>"
      ],
      "text/plain": [
       "Dask DataFrame Structure:\n",
       "              plan_cpu plan_mem\n",
       "npartitions=1                  \n",
       "               float64  float64\n",
       "                   ...      ...\n",
       "Dask Name: truediv, 9 tasks"
      ]
     },
     "execution_count": 6,
     "metadata": {},
     "output_type": "execute_result"
    }
   ],
   "source": [
    "plan_res_job"
   ]
  },
  {
   "cell_type": "code",
   "execution_count": 7,
   "id": "76958008",
   "metadata": {},
   "outputs": [
    {
     "data": {
      "text/plain": [
       "<AxesSubplot:xlabel='plan_cpu', ylabel='Proportion'>"
      ]
     },
     "execution_count": 7,
     "metadata": {},
     "output_type": "execute_result"
    },
    {
     "data": {
      "image/png": "[encoded data removed]",
      "text/plain": [
       "<Figure size 432x288 with 1 Axes>"
      ]
     },
     "metadata": {
      "needs_background": "light"
     },
     "output_type": "display_data"
    }
   ],
   "source": [
    "sns.ecdfplot(data=plan_res_job, x='plan_cpu' )"
   ]
  },
  {
   "cell_type": "code",
   "execution_count": 8,
   "id": "acae28b5",
   "metadata": {},
   "outputs": [
    {
     "data": {
      "text/plain": [
       "<AxesSubplot:xlabel='plan_mem', ylabel='Proportion'>"
      ]
     },
     "execution_count": 8,
     "metadata": {},
     "output_type": "execute_result"
    },
    {
     "data": {
      "image/png": "[encoded data removed]",
      "text/plain": [
       "<Figure size 432x288 with 1 Axes>"
      ]
     },
     "metadata": {
      "needs_background": "light"
     },
     "output_type": "display_data"
    }
   ],
   "source": [
    "sns.ecdfplot(data=plan_res_job, x='plan_mem' )"
   ]
  },
  {
   "cell_type": "code",
   "execution_count": 6,
   "id": "f5dac700",
   "metadata": {},
   "outputs": [],
   "source": [
    "usage_res_job = df_s18[['job_id', 'real_cpu_avg', 'real_mem_avg']].replace(-1, np.NaN).dropna().groupby('job_id').mean()"
   ]
  },
  {
   "cell_type": "code",
   "execution_count": 12,
   "id": "e746107f",
   "metadata": {},
   "outputs": [
    {
     "data": {
      "text/plain": [
       "<AxesSubplot:xlabel='real_cpu_avg', ylabel='Proportion'>"
      ]
     },
     "execution_count": 12,
     "metadata": {},
     "output_type": "execute_result"
    },
    {
     "data": {
      "image/png": "[encoded data removed]",
      "text/plain": [
       "<Figure size 432x288 with 1 Axes>"
      ]
     },
     "metadata": {
      "needs_background": "light"
     },
     "output_type": "display_data"
    }
   ],
   "source": [
    "sns.ecdfplot(data=usage_res_job, x='real_cpu_avg' )"
   ]
  },
  {
   "cell_type": "code",
   "execution_count": 13,
   "id": "a0e8b075",
   "metadata": {},
   "outputs": [
    {
     "data": {
      "text/plain": [
       "<AxesSubplot:xlabel='real_mem_avg', ylabel='Proportion'>"
      ]
     },
     "execution_count": 13,
     "metadata": {},
     "output_type": "execute_result"
    },
    {
     "data": {
      "image/png": "[encoded data removed]",
      "text/plain": [
       "<Figure size 432x288 with 1 Axes>"
      ]
     },
     "metadata": {
      "needs_background": "light"
     },
     "output_type": "display_data"
    }
   ],
   "source": [
    "sns.ecdfplot(data=usage_res_job, x='real_mem_avg' )"
   ]
  },
  {
   "cell_type": "code",
   "execution_count": 14,
   "id": "8f942721",
   "metadata": {},
   "outputs": [
    {
     "data": {
      "text/plain": [
       "<AxesSubplot:xlabel='real_mem_avg', ylabel='Count'>"
      ]
     },
     "execution_count": 14,
     "metadata": {},
     "output_type": "execute_result"
    },
    {
     "data": {
      "image/png": "[encoded data removed]",
      "text/plain": [
       "<Figure size 432x288 with 1 Axes>"
      ]
     },
     "metadata": {
      "needs_background": "light"
     },
     "output_type": "display_data"
    }
   ],
   "source": [
    "sns.histplot(data=usage_res_job, x='real_mem_avg' )"
   ]
  },
  {
   "cell_type": "code",
   "execution_count": 7,
   "id": "0c184abc",
   "metadata": {},
   "outputs": [
    {
     "data": {
      "text/plain": [
       "<AxesSubplot:xlabel='real_mem_avg', ylabel='real_cpu_avg'>"
      ]
     },
     "execution_count": 7,
     "metadata": {},
     "output_type": "execute_result"
    },
    {
     "data": {
      "image/png": "[encoded data removed]",
      "text/plain": [
       "<Figure size 432x288 with 1 Axes>"
      ]
     },
     "metadata": {
      "needs_background": "light"
     },
     "output_type": "display_data"
    }
   ],
   "source": [
    "sns.scatterplot(data=usage_res_job, x='real_mem_avg', y='real_cpu_avg')"
   ]
  },
  {
   "cell_type": "markdown",
   "id": "35ca8077",
   "metadata": {},
   "source": [
    "The correlation is very low implying that the cpu and memory usage are not correlated\n",
    "\n",
    "This could mean that the workloads are maybe either compute intensive or memory intensive"
   ]
  },
  {
   "cell_type": "code",
   "execution_count": 12,
   "id": "88d9ed93",
   "metadata": {},
   "outputs": [
    {
     "data": {
      "text/plain": [
       "-0.033302772777511036"
      ]
     },
     "execution_count": 12,
     "metadata": {},
     "output_type": "execute_result"
    }
   ],
   "source": [
    "usage_res_job_c = usage_res_job.compute()\n",
    "usage_res_job_c['real_mem_avg'].corr(usage_res_job_c['real_cpu_avg'])"
   ]
  },
  {
   "cell_type": "code",
   "execution_count": 13,
   "id": "4c0e4735",
   "metadata": {},
   "outputs": [],
   "source": [
    "plan_res_t = df_s17[['task_id', 'plan_cpu', 'plan_mem']].dropna().groupby('task_id').mean()"
   ]
  },
  {
   "cell_type": "code",
   "execution_count": 14,
   "id": "36002eeb",
   "metadata": {},
   "outputs": [
    {
     "data": {
      "text/plain": [
       "<AxesSubplot:xlabel='plan_cpu', ylabel='Proportion'>"
      ]
     },
     "execution_count": 14,
     "metadata": {},
     "output_type": "execute_result"
    },
    {
     "data": {
      "image/png": "[encoded data removed]",
      "text/plain": [
       "<Figure size 432x288 with 1 Axes>"
      ]
     },
     "metadata": {
      "needs_background": "light"
     },
     "output_type": "display_data"
    }
   ],
   "source": [
    "sns.ecdfplot(data=plan_res_t, x='plan_cpu' )"
   ]
  },
  {
   "cell_type": "code",
   "execution_count": 15,
   "id": "0c4b0538",
   "metadata": {},
   "outputs": [
    {
     "data": {
      "text/plain": [
       "<AxesSubplot:xlabel='plan_mem', ylabel='Proportion'>"
      ]
     },
     "execution_count": 15,
     "metadata": {},
     "output_type": "execute_result"
    },
    {
     "data": {
      "image/png": "[encoded data removed]",
      "text/plain": [
       "<Figure size 432x288 with 1 Axes>"
      ]
     },
     "metadata": {
      "needs_background": "light"
     },
     "output_type": "display_data"
    }
   ],
   "source": [
    "sns.ecdfplot(data=plan_res_t, x='plan_mem' )"
   ]
  },
  {
   "cell_type": "code",
   "execution_count": 17,
   "id": "b9427fb6",
   "metadata": {},
   "outputs": [],
   "source": [
    "usage_res_t = df_s18[['task_id', 'real_cpu_avg', 'real_mem_avg']].replace(-1, np.NaN).dropna().groupby('task_id').mean()"
   ]
  },
  {
   "cell_type": "code",
   "execution_count": 18,
   "id": "41e768c2",
   "metadata": {},
   "outputs": [
    {
     "data": {
      "text/plain": [
       "<AxesSubplot:xlabel='real_cpu_avg', ylabel='Proportion'>"
      ]
     },
     "execution_count": 18,
     "metadata": {},
     "output_type": "execute_result"
    },
    {
     "data": {
      "image/png": "[encoded data removed]",
      "text/plain": [
       "<Figure size 432x288 with 1 Axes>"
      ]
     },
     "metadata": {
      "needs_background": "light"
     },
     "output_type": "display_data"
    }
   ],
   "source": [
    "sns.ecdfplot(data=usage_res_t, x='real_cpu_avg' )"
   ]
  },
  {
   "cell_type": "code",
   "execution_count": 19,
   "id": "2e1b1ff9",
   "metadata": {},
   "outputs": [
    {
     "data": {
      "text/plain": [
       "<AxesSubplot:xlabel='real_mem_avg', ylabel='Proportion'>"
      ]
     },
     "execution_count": 19,
     "metadata": {},
     "output_type": "execute_result"
    },
    {
     "data": {
      "image/png": "[encoded data removed]",
      "text/plain": [
       "<Figure size 432x288 with 1 Axes>"
      ]
     },
     "metadata": {
      "needs_background": "light"
     },
     "output_type": "display_data"
    }
   ],
   "source": [
    "sns.ecdfplot(data=usage_res_t, x='real_mem_avg' )"
   ]
  },
  {
   "cell_type": "code",
   "execution_count": null,
   "id": "705cb725",
   "metadata": {},
   "outputs": [],
   "source": []
  },
  {
   "cell_type": "code",
   "execution_count": 18,
   "id": "2d24ba13",
   "metadata": {},
   "outputs": [
    {
     "data": {
      "text/html": [
       "<div>\n",
       "<style scoped>\n",
       "    .dataframe tbody tr th:only-of-type {\n",
       "        vertical-align: middle;\n",
       "    }\n",
       "\n",
       "    .dataframe tbody tr th {\n",
       "        vertical-align: top;\n",
       "    }\n",
       "\n",
       "    .dataframe thead th {\n",
       "        text-align: right;\n",
       "    }\n",
       "</style>\n",
       "<table border=\"1\" class=\"dataframe\">\n",
       "  <thead>\n",
       "    <tr style=\"text-align: right;\">\n",
       "      <th></th>\n",
       "      <th>create_timestamp</th>\n",
       "      <th>modify_timestamp</th>\n",
       "      <th>job_id</th>\n",
       "      <th>task_id</th>\n",
       "      <th>instance_num</th>\n",
       "      <th>status</th>\n",
       "      <th>plan_cpu</th>\n",
       "      <th>plan_mem</th>\n",
       "    </tr>\n",
       "  </thead>\n",
       "  <tbody>\n",
       "    <tr>\n",
       "      <th>0</th>\n",
       "      <td>6459</td>\n",
       "      <td>6524</td>\n",
       "      <td>3</td>\n",
       "      <td>4</td>\n",
       "      <td>15740</td>\n",
       "      <td>Terminated</td>\n",
       "      <td>50.0</td>\n",
       "      <td>0.007957</td>\n",
       "    </tr>\n",
       "    <tr>\n",
       "      <th>1</th>\n",
       "      <td>6457</td>\n",
       "      <td>6533</td>\n",
       "      <td>3</td>\n",
       "      <td>5</td>\n",
       "      <td>1</td>\n",
       "      <td>Terminated</td>\n",
       "      <td>50.0</td>\n",
       "      <td>0.004395</td>\n",
       "    </tr>\n",
       "    <tr>\n",
       "      <th>2</th>\n",
       "      <td>6036</td>\n",
       "      <td>6046</td>\n",
       "      <td>4</td>\n",
       "      <td>7</td>\n",
       "      <td>393</td>\n",
       "      <td>Waiting</td>\n",
       "      <td>NaN</td>\n",
       "      <td>NaN</td>\n",
       "    </tr>\n",
       "    <tr>\n",
       "      <th>3</th>\n",
       "      <td>6036</td>\n",
       "      <td>6046</td>\n",
       "      <td>4</td>\n",
       "      <td>6</td>\n",
       "      <td>452</td>\n",
       "      <td>Waiting</td>\n",
       "      <td>NaN</td>\n",
       "      <td>NaN</td>\n",
       "    </tr>\n",
       "    <tr>\n",
       "      <th>4</th>\n",
       "      <td>10719</td>\n",
       "      <td>11332</td>\n",
       "      <td>15</td>\n",
       "      <td>67</td>\n",
       "      <td>1705</td>\n",
       "      <td>Terminated</td>\n",
       "      <td>50.0</td>\n",
       "      <td>0.005736</td>\n",
       "    </tr>\n",
       "  </tbody>\n",
       "</table>\n",
       "</div>"
      ],
      "text/plain": [
       "   create_timestamp  modify_timestamp  job_id  task_id  instance_num  \\\n",
       "0              6459              6524       3        4         15740   \n",
       "1              6457              6533       3        5             1   \n",
       "2              6036              6046       4        7           393   \n",
       "3              6036              6046       4        6           452   \n",
       "4             10719             11332      15       67          1705   \n",
       "\n",
       "       status  plan_cpu  plan_mem  \n",
       "0  Terminated      50.0  0.007957  \n",
       "1  Terminated      50.0  0.004395  \n",
       "2     Waiting       NaN       NaN  \n",
       "3     Waiting       NaN       NaN  \n",
       "4  Terminated      50.0  0.005736  "
      ]
     },
     "execution_count": 18,
     "metadata": {},
     "output_type": "execute_result"
    }
   ],
   "source": [
    "df_s17.head()"
   ]
  },
  {
   "cell_type": "code",
   "execution_count": 22,
   "id": "3b1dc7c2",
   "metadata": {},
   "outputs": [
    {
     "data": {
      "text/html": [
       "<div>\n",
       "<style scoped>\n",
       "    .dataframe tbody tr th:only-of-type {\n",
       "        vertical-align: middle;\n",
       "    }\n",
       "\n",
       "    .dataframe tbody tr th {\n",
       "        vertical-align: top;\n",
       "    }\n",
       "\n",
       "    .dataframe thead th {\n",
       "        text-align: right;\n",
       "    }\n",
       "</style>\n",
       "<table border=\"1\" class=\"dataframe\">\n",
       "  <thead>\n",
       "    <tr style=\"text-align: right;\">\n",
       "      <th></th>\n",
       "      <th>create_timestamp</th>\n",
       "      <th>modify_timestamp</th>\n",
       "      <th>job_id</th>\n",
       "      <th>task_id</th>\n",
       "      <th>instance_num</th>\n",
       "      <th>status</th>\n",
       "      <th>plan_cpu</th>\n",
       "      <th>plan_mem</th>\n",
       "    </tr>\n",
       "  </thead>\n",
       "  <tbody>\n",
       "    <tr>\n",
       "      <th>33</th>\n",
       "      <td>16341</td>\n",
       "      <td>16391</td>\n",
       "      <td>28</td>\n",
       "      <td>151</td>\n",
       "      <td>61</td>\n",
       "      <td>Running</td>\n",
       "      <td>50.0</td>\n",
       "      <td>0.007936</td>\n",
       "    </tr>\n",
       "    <tr>\n",
       "      <th>35</th>\n",
       "      <td>16341</td>\n",
       "      <td>16391</td>\n",
       "      <td>28</td>\n",
       "      <td>152</td>\n",
       "      <td>23</td>\n",
       "      <td>Running</td>\n",
       "      <td>50.0</td>\n",
       "      <td>0.013356</td>\n",
       "    </tr>\n",
       "    <tr>\n",
       "      <th>36</th>\n",
       "      <td>16341</td>\n",
       "      <td>16391</td>\n",
       "      <td>28</td>\n",
       "      <td>154</td>\n",
       "      <td>261</td>\n",
       "      <td>Running</td>\n",
       "      <td>50.0</td>\n",
       "      <td>0.008205</td>\n",
       "    </tr>\n",
       "    <tr>\n",
       "      <th>139</th>\n",
       "      <td>24775</td>\n",
       "      <td>24927</td>\n",
       "      <td>61</td>\n",
       "      <td>438</td>\n",
       "      <td>319</td>\n",
       "      <td>Running</td>\n",
       "      <td>50.0</td>\n",
       "      <td>0.013356</td>\n",
       "    </tr>\n",
       "    <tr>\n",
       "      <th>140</th>\n",
       "      <td>24775</td>\n",
       "      <td>24927</td>\n",
       "      <td>61</td>\n",
       "      <td>446</td>\n",
       "      <td>3</td>\n",
       "      <td>Running</td>\n",
       "      <td>50.0</td>\n",
       "      <td>0.007952</td>\n",
       "    </tr>\n",
       "  </tbody>\n",
       "</table>\n",
       "</div>"
      ],
      "text/plain": [
       "     create_timestamp  modify_timestamp  job_id  task_id  instance_num  \\\n",
       "33              16341             16391      28      151            61   \n",
       "35              16341             16391      28      152            23   \n",
       "36              16341             16391      28      154           261   \n",
       "139             24775             24927      61      438           319   \n",
       "140             24775             24927      61      446             3   \n",
       "\n",
       "      status  plan_cpu  plan_mem  \n",
       "33   Running      50.0  0.007936  \n",
       "35   Running      50.0  0.013356  \n",
       "36   Running      50.0  0.008205  \n",
       "139  Running      50.0  0.013356  \n",
       "140  Running      50.0  0.007952  "
      ]
     },
     "execution_count": 22,
     "metadata": {},
     "output_type": "execute_result"
    }
   ],
   "source": [
    "df_s17.query('status == \"Running\"').compute().head()"
   ]
  },
  {
   "cell_type": "code",
   "execution_count": 23,
   "id": "176670da",
   "metadata": {},
   "outputs": [
    {
     "data": {
      "text/html": [
       "<div>\n",
       "<style scoped>\n",
       "    .dataframe tbody tr th:only-of-type {\n",
       "        vertical-align: middle;\n",
       "    }\n",
       "\n",
       "    .dataframe tbody tr th {\n",
       "        vertical-align: top;\n",
       "    }\n",
       "\n",
       "    .dataframe thead th {\n",
       "        text-align: right;\n",
       "    }\n",
       "</style>\n",
       "<table border=\"1\" class=\"dataframe\">\n",
       "  <thead>\n",
       "    <tr style=\"text-align: right;\">\n",
       "      <th></th>\n",
       "      <th>create_timestamp</th>\n",
       "      <th>modify_timestamp</th>\n",
       "      <th>job_id</th>\n",
       "      <th>task_id</th>\n",
       "      <th>instance_num</th>\n",
       "      <th>status</th>\n",
       "      <th>plan_cpu</th>\n",
       "      <th>plan_mem</th>\n",
       "    </tr>\n",
       "  </thead>\n",
       "  <tbody>\n",
       "    <tr>\n",
       "      <th>33</th>\n",
       "      <td>16341</td>\n",
       "      <td>16391</td>\n",
       "      <td>28</td>\n",
       "      <td>151</td>\n",
       "      <td>61</td>\n",
       "      <td>Running</td>\n",
       "      <td>50.0</td>\n",
       "      <td>0.007936</td>\n",
       "    </tr>\n",
       "    <tr>\n",
       "      <th>34</th>\n",
       "      <td>16341</td>\n",
       "      <td>16391</td>\n",
       "      <td>28</td>\n",
       "      <td>153</td>\n",
       "      <td>407</td>\n",
       "      <td>Failed</td>\n",
       "      <td>50.0</td>\n",
       "      <td>0.016007</td>\n",
       "    </tr>\n",
       "    <tr>\n",
       "      <th>35</th>\n",
       "      <td>16341</td>\n",
       "      <td>16391</td>\n",
       "      <td>28</td>\n",
       "      <td>152</td>\n",
       "      <td>23</td>\n",
       "      <td>Running</td>\n",
       "      <td>50.0</td>\n",
       "      <td>0.013356</td>\n",
       "    </tr>\n",
       "    <tr>\n",
       "      <th>36</th>\n",
       "      <td>16341</td>\n",
       "      <td>16391</td>\n",
       "      <td>28</td>\n",
       "      <td>154</td>\n",
       "      <td>261</td>\n",
       "      <td>Running</td>\n",
       "      <td>50.0</td>\n",
       "      <td>0.008205</td>\n",
       "    </tr>\n",
       "  </tbody>\n",
       "</table>\n",
       "</div>"
      ],
      "text/plain": [
       "    create_timestamp  modify_timestamp  job_id  task_id  instance_num  \\\n",
       "33             16341             16391      28      151            61   \n",
       "34             16341             16391      28      153           407   \n",
       "35             16341             16391      28      152            23   \n",
       "36             16341             16391      28      154           261   \n",
       "\n",
       "     status  plan_cpu  plan_mem  \n",
       "33  Running      50.0  0.007936  \n",
       "34   Failed      50.0  0.016007  \n",
       "35  Running      50.0  0.013356  \n",
       "36  Running      50.0  0.008205  "
      ]
     },
     "execution_count": 23,
     "metadata": {},
     "output_type": "execute_result"
    }
   ],
   "source": [
    "df_s17.query('job_id == 28').compute()"
   ]
  },
  {
   "cell_type": "code",
   "execution_count": 4,
   "id": "72090d67",
   "metadata": {},
   "outputs": [
    {
     "data": {
      "text/html": [
       "<div>\n",
       "<style scoped>\n",
       "    .dataframe tbody tr th:only-of-type {\n",
       "        vertical-align: middle;\n",
       "    }\n",
       "\n",
       "    .dataframe tbody tr th {\n",
       "        vertical-align: top;\n",
       "    }\n",
       "\n",
       "    .dataframe thead th {\n",
       "        text-align: right;\n",
       "    }\n",
       "</style>\n",
       "<table border=\"1\" class=\"dataframe\">\n",
       "  <thead>\n",
       "    <tr style=\"text-align: right;\">\n",
       "      <th></th>\n",
       "      <th>start_timestamp</th>\n",
       "      <th>end_timestamp</th>\n",
       "      <th>job_id</th>\n",
       "      <th>task_id</th>\n",
       "      <th>machineID</th>\n",
       "      <th>status</th>\n",
       "      <th>seq_no</th>\n",
       "      <th>total_seq_no</th>\n",
       "      <th>real_cpu_max</th>\n",
       "      <th>real_cpu_avg</th>\n",
       "      <th>real_mem_max</th>\n",
       "      <th>real_mem_avg</th>\n",
       "    </tr>\n",
       "  </thead>\n",
       "  <tbody>\n",
       "    <tr>\n",
       "      <th>10757599</th>\n",
       "      <td>16348</td>\n",
       "      <td>16391</td>\n",
       "      <td>28</td>\n",
       "      <td>151</td>\n",
       "      <td>742</td>\n",
       "      <td>Running</td>\n",
       "      <td>1</td>\n",
       "      <td>1</td>\n",
       "      <td>-1.0</td>\n",
       "      <td>-1.0</td>\n",
       "      <td>-1.0</td>\n",
       "      <td>-1.0</td>\n",
       "    </tr>\n",
       "    <tr>\n",
       "      <th>10757600</th>\n",
       "      <td>16348</td>\n",
       "      <td>16391</td>\n",
       "      <td>28</td>\n",
       "      <td>151</td>\n",
       "      <td>786</td>\n",
       "      <td>Running</td>\n",
       "      <td>1</td>\n",
       "      <td>1</td>\n",
       "      <td>-1.0</td>\n",
       "      <td>-1.0</td>\n",
       "      <td>-1.0</td>\n",
       "      <td>-1.0</td>\n",
       "    </tr>\n",
       "    <tr>\n",
       "      <th>10757601</th>\n",
       "      <td>16348</td>\n",
       "      <td>16391</td>\n",
       "      <td>28</td>\n",
       "      <td>151</td>\n",
       "      <td>302</td>\n",
       "      <td>Running</td>\n",
       "      <td>1</td>\n",
       "      <td>1</td>\n",
       "      <td>-1.0</td>\n",
       "      <td>-1.0</td>\n",
       "      <td>-1.0</td>\n",
       "      <td>-1.0</td>\n",
       "    </tr>\n",
       "    <tr>\n",
       "      <th>10757602</th>\n",
       "      <td>16348</td>\n",
       "      <td>16391</td>\n",
       "      <td>28</td>\n",
       "      <td>151</td>\n",
       "      <td>159</td>\n",
       "      <td>Running</td>\n",
       "      <td>1</td>\n",
       "      <td>1</td>\n",
       "      <td>-1.0</td>\n",
       "      <td>-1.0</td>\n",
       "      <td>-1.0</td>\n",
       "      <td>-1.0</td>\n",
       "    </tr>\n",
       "    <tr>\n",
       "      <th>10757603</th>\n",
       "      <td>16348</td>\n",
       "      <td>16391</td>\n",
       "      <td>28</td>\n",
       "      <td>151</td>\n",
       "      <td>149</td>\n",
       "      <td>Running</td>\n",
       "      <td>1</td>\n",
       "      <td>1</td>\n",
       "      <td>-1.0</td>\n",
       "      <td>-1.0</td>\n",
       "      <td>-1.0</td>\n",
       "      <td>-1.0</td>\n",
       "    </tr>\n",
       "    <tr>\n",
       "      <th>...</th>\n",
       "      <td>...</td>\n",
       "      <td>...</td>\n",
       "      <td>...</td>\n",
       "      <td>...</td>\n",
       "      <td>...</td>\n",
       "      <td>...</td>\n",
       "      <td>...</td>\n",
       "      <td>...</td>\n",
       "      <td>...</td>\n",
       "      <td>...</td>\n",
       "      <td>...</td>\n",
       "      <td>...</td>\n",
       "    </tr>\n",
       "    <tr>\n",
       "      <th>10757679</th>\n",
       "      <td>16348</td>\n",
       "      <td>16391</td>\n",
       "      <td>28</td>\n",
       "      <td>151</td>\n",
       "      <td>572</td>\n",
       "      <td>Running</td>\n",
       "      <td>1</td>\n",
       "      <td>1</td>\n",
       "      <td>-1.0</td>\n",
       "      <td>-1.0</td>\n",
       "      <td>-1.0</td>\n",
       "      <td>-1.0</td>\n",
       "    </tr>\n",
       "    <tr>\n",
       "      <th>10757680</th>\n",
       "      <td>16348</td>\n",
       "      <td>16391</td>\n",
       "      <td>28</td>\n",
       "      <td>151</td>\n",
       "      <td>612</td>\n",
       "      <td>Running</td>\n",
       "      <td>1</td>\n",
       "      <td>1</td>\n",
       "      <td>-1.0</td>\n",
       "      <td>-1.0</td>\n",
       "      <td>-1.0</td>\n",
       "      <td>-1.0</td>\n",
       "    </tr>\n",
       "    <tr>\n",
       "      <th>10757681</th>\n",
       "      <td>16348</td>\n",
       "      <td>16391</td>\n",
       "      <td>28</td>\n",
       "      <td>151</td>\n",
       "      <td>1095</td>\n",
       "      <td>Running</td>\n",
       "      <td>1</td>\n",
       "      <td>1</td>\n",
       "      <td>-1.0</td>\n",
       "      <td>-1.0</td>\n",
       "      <td>-1.0</td>\n",
       "      <td>-1.0</td>\n",
       "    </tr>\n",
       "    <tr>\n",
       "      <th>10757682</th>\n",
       "      <td>16348</td>\n",
       "      <td>16391</td>\n",
       "      <td>28</td>\n",
       "      <td>151</td>\n",
       "      <td>819</td>\n",
       "      <td>Running</td>\n",
       "      <td>1</td>\n",
       "      <td>1</td>\n",
       "      <td>-1.0</td>\n",
       "      <td>-1.0</td>\n",
       "      <td>-1.0</td>\n",
       "      <td>-1.0</td>\n",
       "    </tr>\n",
       "    <tr>\n",
       "      <th>10757683</th>\n",
       "      <td>16348</td>\n",
       "      <td>16391</td>\n",
       "      <td>28</td>\n",
       "      <td>151</td>\n",
       "      <td>65</td>\n",
       "      <td>Running</td>\n",
       "      <td>1</td>\n",
       "      <td>1</td>\n",
       "      <td>-1.0</td>\n",
       "      <td>-1.0</td>\n",
       "      <td>-1.0</td>\n",
       "      <td>-1.0</td>\n",
       "    </tr>\n",
       "  </tbody>\n",
       "</table>\n",
       "<p>61 rows × 12 columns</p>\n",
       "</div>"
      ],
      "text/plain": [
       "          start_timestamp  end_timestamp  job_id  task_id  machineID   status  \\\n",
       "10757599            16348          16391      28      151        742  Running   \n",
       "10757600            16348          16391      28      151        786  Running   \n",
       "10757601            16348          16391      28      151        302  Running   \n",
       "10757602            16348          16391      28      151        159  Running   \n",
       "10757603            16348          16391      28      151        149  Running   \n",
       "...                   ...            ...     ...      ...        ...      ...   \n",
       "10757679            16348          16391      28      151        572  Running   \n",
       "10757680            16348          16391      28      151        612  Running   \n",
       "10757681            16348          16391      28      151       1095  Running   \n",
       "10757682            16348          16391      28      151        819  Running   \n",
       "10757683            16348          16391      28      151         65  Running   \n",
       "\n",
       "          seq_no  total_seq_no  real_cpu_max  real_cpu_avg  real_mem_max  \\\n",
       "10757599       1             1          -1.0          -1.0          -1.0   \n",
       "10757600       1             1          -1.0          -1.0          -1.0   \n",
       "10757601       1             1          -1.0          -1.0          -1.0   \n",
       "10757602       1             1          -1.0          -1.0          -1.0   \n",
       "10757603       1             1          -1.0          -1.0          -1.0   \n",
       "...          ...           ...           ...           ...           ...   \n",
       "10757679       1             1          -1.0          -1.0          -1.0   \n",
       "10757680       1             1          -1.0          -1.0          -1.0   \n",
       "10757681       1             1          -1.0          -1.0          -1.0   \n",
       "10757682       1             1          -1.0          -1.0          -1.0   \n",
       "10757683       1             1          -1.0          -1.0          -1.0   \n",
       "\n",
       "          real_mem_avg  \n",
       "10757599          -1.0  \n",
       "10757600          -1.0  \n",
       "10757601          -1.0  \n",
       "10757602          -1.0  \n",
       "10757603          -1.0  \n",
       "...                ...  \n",
       "10757679          -1.0  \n",
       "10757680          -1.0  \n",
       "10757681          -1.0  \n",
       "10757682          -1.0  \n",
       "10757683          -1.0  \n",
       "\n",
       "[61 rows x 12 columns]"
      ]
     },
     "execution_count": 4,
     "metadata": {},
     "output_type": "execute_result"
    }
   ],
   "source": [
    "j28_t_151 = df_s18.query('job_id == 28 & task_id == 151').compute()\n",
    "j28_t_151"
   ]
  },
  {
   "cell_type": "code",
   "execution_count": null,
   "id": "aa5bbb0c",
   "metadata": {},
   "outputs": [],
   "source": [
    "# df_s18.groupby('job_id')['real_cpu_avg'].mean()\n",
    "\n",
    "df_cdf_mem = df_s18.replace(-1, np.NaN).dropna().groupby('job_id')['real_mem_avg'].mean().compute()"
   ]
  },
  {
   "cell_type": "code",
   "execution_count": 7,
   "id": "f04ed579",
   "metadata": {},
   "outputs": [
    {
     "data": {
      "text/plain": [
       "nan"
      ]
     },
     "execution_count": 7,
     "metadata": {},
     "output_type": "execute_result"
    }
   ],
   "source": [
    "j28_t_151.replace(-1, np.NaN)['real_mem_avg'].mean()"
   ]
  },
  {
   "cell_type": "code",
   "execution_count": 11,
   "id": "e3f747b2",
   "metadata": {},
   "outputs": [],
   "source": [
    "non_nan = df_s18.replace(-1, np.NaN).dropna().head()"
   ]
  },
  {
   "cell_type": "code",
   "execution_count": 12,
   "id": "5714952e",
   "metadata": {},
   "outputs": [
    {
     "data": {
      "text/html": [
       "<div>\n",
       "<style scoped>\n",
       "    .dataframe tbody tr th:only-of-type {\n",
       "        vertical-align: middle;\n",
       "    }\n",
       "\n",
       "    .dataframe tbody tr th {\n",
       "        vertical-align: top;\n",
       "    }\n",
       "\n",
       "    .dataframe thead th {\n",
       "        text-align: right;\n",
       "    }\n",
       "</style>\n",
       "<table border=\"1\" class=\"dataframe\">\n",
       "  <thead>\n",
       "    <tr style=\"text-align: right;\">\n",
       "      <th></th>\n",
       "      <th>start_timestamp</th>\n",
       "      <th>end_timestamp</th>\n",
       "      <th>job_id</th>\n",
       "      <th>task_id</th>\n",
       "      <th>machineID</th>\n",
       "      <th>status</th>\n",
       "      <th>seq_no</th>\n",
       "      <th>total_seq_no</th>\n",
       "      <th>real_cpu_max</th>\n",
       "      <th>real_cpu_avg</th>\n",
       "      <th>real_mem_max</th>\n",
       "      <th>real_mem_avg</th>\n",
       "    </tr>\n",
       "  </thead>\n",
       "  <tbody>\n",
       "    <tr>\n",
       "      <th>4214</th>\n",
       "      <td>16218.0</td>\n",
       "      <td>16248.0</td>\n",
       "      <td>239.0</td>\n",
       "      <td>1328.0</td>\n",
       "      <td>1214.0</td>\n",
       "      <td>Terminated</td>\n",
       "      <td>1</td>\n",
       "      <td>1</td>\n",
       "      <td>0.94</td>\n",
       "      <td>0.04</td>\n",
       "      <td>0.007589</td>\n",
       "      <td>0.007346</td>\n",
       "    </tr>\n",
       "    <tr>\n",
       "      <th>4215</th>\n",
       "      <td>16218.0</td>\n",
       "      <td>16248.0</td>\n",
       "      <td>239.0</td>\n",
       "      <td>1328.0</td>\n",
       "      <td>348.0</td>\n",
       "      <td>Terminated</td>\n",
       "      <td>1</td>\n",
       "      <td>1</td>\n",
       "      <td>0.87</td>\n",
       "      <td>0.04</td>\n",
       "      <td>0.007527</td>\n",
       "      <td>0.007284</td>\n",
       "    </tr>\n",
       "    <tr>\n",
       "      <th>4216</th>\n",
       "      <td>16218.0</td>\n",
       "      <td>16248.0</td>\n",
       "      <td>239.0</td>\n",
       "      <td>1328.0</td>\n",
       "      <td>736.0</td>\n",
       "      <td>Terminated</td>\n",
       "      <td>1</td>\n",
       "      <td>1</td>\n",
       "      <td>1.00</td>\n",
       "      <td>0.04</td>\n",
       "      <td>0.008397</td>\n",
       "      <td>0.008164</td>\n",
       "    </tr>\n",
       "    <tr>\n",
       "      <th>4217</th>\n",
       "      <td>16218.0</td>\n",
       "      <td>16247.0</td>\n",
       "      <td>239.0</td>\n",
       "      <td>1328.0</td>\n",
       "      <td>745.0</td>\n",
       "      <td>Terminated</td>\n",
       "      <td>1</td>\n",
       "      <td>1</td>\n",
       "      <td>0.86</td>\n",
       "      <td>0.03</td>\n",
       "      <td>0.008589</td>\n",
       "      <td>0.008392</td>\n",
       "    </tr>\n",
       "    <tr>\n",
       "      <th>4218</th>\n",
       "      <td>16218.0</td>\n",
       "      <td>16248.0</td>\n",
       "      <td>239.0</td>\n",
       "      <td>1328.0</td>\n",
       "      <td>1100.0</td>\n",
       "      <td>Terminated</td>\n",
       "      <td>1</td>\n",
       "      <td>1</td>\n",
       "      <td>0.93</td>\n",
       "      <td>0.04</td>\n",
       "      <td>0.009562</td>\n",
       "      <td>0.009329</td>\n",
       "    </tr>\n",
       "  </tbody>\n",
       "</table>\n",
       "</div>"
      ],
      "text/plain": [
       "      start_timestamp  end_timestamp  job_id  task_id  machineID      status  \\\n",
       "4214          16218.0        16248.0   239.0   1328.0     1214.0  Terminated   \n",
       "4215          16218.0        16248.0   239.0   1328.0      348.0  Terminated   \n",
       "4216          16218.0        16248.0   239.0   1328.0      736.0  Terminated   \n",
       "4217          16218.0        16247.0   239.0   1328.0      745.0  Terminated   \n",
       "4218          16218.0        16248.0   239.0   1328.0     1100.0  Terminated   \n",
       "\n",
       "      seq_no  total_seq_no  real_cpu_max  real_cpu_avg  real_mem_max  \\\n",
       "4214       1             1          0.94          0.04      0.007589   \n",
       "4215       1             1          0.87          0.04      0.007527   \n",
       "4216       1             1          1.00          0.04      0.008397   \n",
       "4217       1             1          0.86          0.03      0.008589   \n",
       "4218       1             1          0.93          0.04      0.009562   \n",
       "\n",
       "      real_mem_avg  \n",
       "4214      0.007346  \n",
       "4215      0.007284  \n",
       "4216      0.008164  \n",
       "4217      0.008392  \n",
       "4218      0.009329  "
      ]
     },
     "execution_count": 12,
     "metadata": {},
     "output_type": "execute_result"
    }
   ],
   "source": [
    "non_nan"
   ]
  },
  {
   "cell_type": "code",
   "execution_count": 14,
   "id": "8b9f09f6",
   "metadata": {},
   "outputs": [],
   "source": [
    "test = dd.concat([non_nan, j28_t_151])"
   ]
  },
  {
   "cell_type": "code",
   "execution_count": 22,
   "id": "32665b91",
   "metadata": {},
   "outputs": [
    {
     "data": {
      "text/html": [
       "<div>\n",
       "<style scoped>\n",
       "    .dataframe tbody tr th:only-of-type {\n",
       "        vertical-align: middle;\n",
       "    }\n",
       "\n",
       "    .dataframe tbody tr th {\n",
       "        vertical-align: top;\n",
       "    }\n",
       "\n",
       "    .dataframe thead th {\n",
       "        text-align: right;\n",
       "    }\n",
       "</style>\n",
       "<table border=\"1\" class=\"dataframe\">\n",
       "  <thead>\n",
       "    <tr style=\"text-align: right;\">\n",
       "      <th></th>\n",
       "      <th>real_mem_avg</th>\n",
       "      <th>real_cpu_avg</th>\n",
       "    </tr>\n",
       "    <tr>\n",
       "      <th>job_id</th>\n",
       "      <th></th>\n",
       "      <th></th>\n",
       "    </tr>\n",
       "  </thead>\n",
       "  <tbody>\n",
       "    <tr>\n",
       "      <th>239.0</th>\n",
       "      <td>0.008103</td>\n",
       "      <td>0.038</td>\n",
       "    </tr>\n",
       "  </tbody>\n",
       "</table>\n",
       "</div>"
      ],
      "text/plain": [
       "        real_mem_avg  real_cpu_avg\n",
       "job_id                            \n",
       "239.0       0.008103         0.038"
      ]
     },
     "execution_count": 22,
     "metadata": {},
     "output_type": "execute_result"
    }
   ],
   "source": [
    "test.compute().replace(-1, np.NaN).dropna().groupby('job_id')[['real_mem_avg', 'real_cpu_avg']].mean()"
   ]
  },
  {
   "cell_type": "code",
   "execution_count": null,
   "id": "c4c91691",
   "metadata": {},
   "outputs": [],
   "source": []
  },
  {
   "cell_type": "code",
   "execution_count": null,
   "id": "5a60a356",
   "metadata": {},
   "outputs": [],
   "source": [
    "mem_and_cpu_per_job = df_s18.replace(-1, np.NaN).dropna().groupby('job_id').[['real_mem_avg', 'real_cpu_avg']].mean()"
   ]
  },
  {
   "cell_type": "code",
   "execution_count": 4,
   "id": "58cf642a",
   "metadata": {},
   "outputs": [],
   "source": [
    "failed_28 = df_s18.query('job_id == 28 & task_id == 153').compute()"
   ]
  },
  {
   "cell_type": "code",
   "execution_count": 7,
   "id": "8242dca2",
   "metadata": {},
   "outputs": [
    {
     "data": {
      "text/html": [
       "<div>\n",
       "<style scoped>\n",
       "    .dataframe tbody tr th:only-of-type {\n",
       "        vertical-align: middle;\n",
       "    }\n",
       "\n",
       "    .dataframe tbody tr th {\n",
       "        vertical-align: top;\n",
       "    }\n",
       "\n",
       "    .dataframe thead th {\n",
       "        text-align: right;\n",
       "    }\n",
       "</style>\n",
       "<table border=\"1\" class=\"dataframe\">\n",
       "  <thead>\n",
       "    <tr style=\"text-align: right;\">\n",
       "      <th></th>\n",
       "      <th>start_timestamp</th>\n",
       "      <th>end_timestamp</th>\n",
       "      <th>job_id</th>\n",
       "      <th>task_id</th>\n",
       "      <th>machineID</th>\n",
       "      <th>status</th>\n",
       "      <th>seq_no</th>\n",
       "      <th>total_seq_no</th>\n",
       "      <th>real_cpu_max</th>\n",
       "      <th>real_cpu_avg</th>\n",
       "      <th>real_mem_max</th>\n",
       "      <th>real_mem_avg</th>\n",
       "    </tr>\n",
       "  </thead>\n",
       "  <tbody>\n",
       "    <tr>\n",
       "      <th>10757571</th>\n",
       "      <td>16349</td>\n",
       "      <td>0</td>\n",
       "      <td>28</td>\n",
       "      <td>153</td>\n",
       "      <td>725</td>\n",
       "      <td>Failed</td>\n",
       "      <td>1</td>\n",
       "      <td>1</td>\n",
       "      <td>-1.0</td>\n",
       "      <td>-1.0</td>\n",
       "      <td>-1.0</td>\n",
       "      <td>-1.0</td>\n",
       "    </tr>\n",
       "  </tbody>\n",
       "</table>\n",
       "</div>"
      ],
      "text/plain": [
       "          start_timestamp  end_timestamp  job_id  task_id  machineID  status  \\\n",
       "10757571            16349              0      28      153        725  Failed   \n",
       "\n",
       "          seq_no  total_seq_no  real_cpu_max  real_cpu_avg  real_mem_max  \\\n",
       "10757571       1             1          -1.0          -1.0          -1.0   \n",
       "\n",
       "          real_mem_avg  \n",
       "10757571          -1.0  "
      ]
     },
     "execution_count": 7,
     "metadata": {},
     "output_type": "execute_result"
    }
   ],
   "source": [
    "failed_28.query('status == \"Failed\"')"
   ]
  },
  {
   "cell_type": "code",
   "execution_count": 9,
   "id": "9fada1f2",
   "metadata": {},
   "outputs": [
    {
     "data": {
      "text/plain": [
       "16391"
      ]
     },
     "execution_count": 9,
     "metadata": {},
     "output_type": "execute_result"
    }
   ],
   "source": [
    "failed_28['end_timestamp'].max()"
   ]
  },
  {
   "cell_type": "code",
   "execution_count": 10,
   "id": "20f3bcd5",
   "metadata": {},
   "outputs": [
    {
     "data": {
      "text/plain": [
       "16349"
      ]
     },
     "execution_count": 10,
     "metadata": {},
     "output_type": "execute_result"
    }
   ],
   "source": [
    "failed_28['start_timestamp'].min()"
   ]
  },
  {
   "cell_type": "code",
   "execution_count": 13,
   "id": "23f53024",
   "metadata": {},
   "outputs": [],
   "source": [
    "j_28 = df_s18.query('job_id == 28').compute()"
   ]
  },
  {
   "cell_type": "code",
   "execution_count": 14,
   "id": "f0280842",
   "metadata": {},
   "outputs": [],
   "source": [
    "j_28_min_exec, j_28_max_exec = j_28['start_timestamp'].min(), j_28['end_timestamp'].max()"
   ]
  },
  {
   "cell_type": "code",
   "execution_count": 15,
   "id": "648f466a",
   "metadata": {},
   "outputs": [
    {
     "data": {
      "text/plain": [
       "(16348, 16391)"
      ]
     },
     "execution_count": 15,
     "metadata": {},
     "output_type": "execute_result"
    }
   ],
   "source": [
    "j_28_min_exec, j_28_max_exec"
   ]
  },
  {
   "cell_type": "code",
   "execution_count": 16,
   "id": "2b31408d",
   "metadata": {},
   "outputs": [
    {
     "data": {
      "text/html": [
       "<div>\n",
       "<style scoped>\n",
       "    .dataframe tbody tr th:only-of-type {\n",
       "        vertical-align: middle;\n",
       "    }\n",
       "\n",
       "    .dataframe tbody tr th {\n",
       "        vertical-align: top;\n",
       "    }\n",
       "\n",
       "    .dataframe thead th {\n",
       "        text-align: right;\n",
       "    }\n",
       "</style>\n",
       "<table border=\"1\" class=\"dataframe\">\n",
       "  <thead>\n",
       "    <tr style=\"text-align: right;\">\n",
       "      <th></th>\n",
       "      <th>start_timestamp</th>\n",
       "      <th>end_timestamp</th>\n",
       "      <th>job_id</th>\n",
       "      <th>task_id</th>\n",
       "      <th>machineID</th>\n",
       "      <th>status</th>\n",
       "      <th>seq_no</th>\n",
       "      <th>total_seq_no</th>\n",
       "      <th>real_cpu_max</th>\n",
       "      <th>real_cpu_avg</th>\n",
       "      <th>real_mem_max</th>\n",
       "      <th>real_mem_avg</th>\n",
       "    </tr>\n",
       "  </thead>\n",
       "  <tbody>\n",
       "    <tr>\n",
       "      <th>10757402</th>\n",
       "      <td>16349</td>\n",
       "      <td>16391</td>\n",
       "      <td>28</td>\n",
       "      <td>153</td>\n",
       "      <td>290</td>\n",
       "      <td>Running</td>\n",
       "      <td>1</td>\n",
       "      <td>1</td>\n",
       "      <td>-1.0</td>\n",
       "      <td>-1.0</td>\n",
       "      <td>-1.0</td>\n",
       "      <td>-1.0</td>\n",
       "    </tr>\n",
       "    <tr>\n",
       "      <th>10757403</th>\n",
       "      <td>16349</td>\n",
       "      <td>16391</td>\n",
       "      <td>28</td>\n",
       "      <td>153</td>\n",
       "      <td>702</td>\n",
       "      <td>Running</td>\n",
       "      <td>1</td>\n",
       "      <td>1</td>\n",
       "      <td>-1.0</td>\n",
       "      <td>-1.0</td>\n",
       "      <td>-1.0</td>\n",
       "      <td>-1.0</td>\n",
       "    </tr>\n",
       "    <tr>\n",
       "      <th>10757404</th>\n",
       "      <td>16349</td>\n",
       "      <td>16391</td>\n",
       "      <td>28</td>\n",
       "      <td>153</td>\n",
       "      <td>1215</td>\n",
       "      <td>Running</td>\n",
       "      <td>1</td>\n",
       "      <td>1</td>\n",
       "      <td>-1.0</td>\n",
       "      <td>-1.0</td>\n",
       "      <td>-1.0</td>\n",
       "      <td>-1.0</td>\n",
       "    </tr>\n",
       "    <tr>\n",
       "      <th>10757405</th>\n",
       "      <td>16349</td>\n",
       "      <td>16391</td>\n",
       "      <td>28</td>\n",
       "      <td>153</td>\n",
       "      <td>1131</td>\n",
       "      <td>Running</td>\n",
       "      <td>1</td>\n",
       "      <td>1</td>\n",
       "      <td>-1.0</td>\n",
       "      <td>-1.0</td>\n",
       "      <td>-1.0</td>\n",
       "      <td>-1.0</td>\n",
       "    </tr>\n",
       "    <tr>\n",
       "      <th>10757406</th>\n",
       "      <td>16349</td>\n",
       "      <td>16391</td>\n",
       "      <td>28</td>\n",
       "      <td>153</td>\n",
       "      <td>959</td>\n",
       "      <td>Running</td>\n",
       "      <td>1</td>\n",
       "      <td>1</td>\n",
       "      <td>-1.0</td>\n",
       "      <td>-1.0</td>\n",
       "      <td>-1.0</td>\n",
       "      <td>-1.0</td>\n",
       "    </tr>\n",
       "    <tr>\n",
       "      <th>...</th>\n",
       "      <td>...</td>\n",
       "      <td>...</td>\n",
       "      <td>...</td>\n",
       "      <td>...</td>\n",
       "      <td>...</td>\n",
       "      <td>...</td>\n",
       "      <td>...</td>\n",
       "      <td>...</td>\n",
       "      <td>...</td>\n",
       "      <td>...</td>\n",
       "      <td>...</td>\n",
       "      <td>...</td>\n",
       "    </tr>\n",
       "    <tr>\n",
       "      <th>10758149</th>\n",
       "      <td>16348</td>\n",
       "      <td>16391</td>\n",
       "      <td>28</td>\n",
       "      <td>154</td>\n",
       "      <td>693</td>\n",
       "      <td>Running</td>\n",
       "      <td>1</td>\n",
       "      <td>1</td>\n",
       "      <td>-1.0</td>\n",
       "      <td>-1.0</td>\n",
       "      <td>-1.0</td>\n",
       "      <td>-1.0</td>\n",
       "    </tr>\n",
       "    <tr>\n",
       "      <th>10758150</th>\n",
       "      <td>16348</td>\n",
       "      <td>16391</td>\n",
       "      <td>28</td>\n",
       "      <td>154</td>\n",
       "      <td>884</td>\n",
       "      <td>Running</td>\n",
       "      <td>1</td>\n",
       "      <td>1</td>\n",
       "      <td>-1.0</td>\n",
       "      <td>-1.0</td>\n",
       "      <td>-1.0</td>\n",
       "      <td>-1.0</td>\n",
       "    </tr>\n",
       "    <tr>\n",
       "      <th>10758151</th>\n",
       "      <td>16348</td>\n",
       "      <td>16391</td>\n",
       "      <td>28</td>\n",
       "      <td>154</td>\n",
       "      <td>831</td>\n",
       "      <td>Running</td>\n",
       "      <td>1</td>\n",
       "      <td>1</td>\n",
       "      <td>-1.0</td>\n",
       "      <td>-1.0</td>\n",
       "      <td>-1.0</td>\n",
       "      <td>-1.0</td>\n",
       "    </tr>\n",
       "    <tr>\n",
       "      <th>10758152</th>\n",
       "      <td>16348</td>\n",
       "      <td>16391</td>\n",
       "      <td>28</td>\n",
       "      <td>154</td>\n",
       "      <td>32</td>\n",
       "      <td>Running</td>\n",
       "      <td>1</td>\n",
       "      <td>1</td>\n",
       "      <td>-1.0</td>\n",
       "      <td>-1.0</td>\n",
       "      <td>-1.0</td>\n",
       "      <td>-1.0</td>\n",
       "    </tr>\n",
       "    <tr>\n",
       "      <th>10758153</th>\n",
       "      <td>16348</td>\n",
       "      <td>16391</td>\n",
       "      <td>28</td>\n",
       "      <td>154</td>\n",
       "      <td>472</td>\n",
       "      <td>Running</td>\n",
       "      <td>1</td>\n",
       "      <td>1</td>\n",
       "      <td>-1.0</td>\n",
       "      <td>-1.0</td>\n",
       "      <td>-1.0</td>\n",
       "      <td>-1.0</td>\n",
       "    </tr>\n",
       "  </tbody>\n",
       "</table>\n",
       "<p>752 rows × 12 columns</p>\n",
       "</div>"
      ],
      "text/plain": [
       "          start_timestamp  end_timestamp  job_id  task_id  machineID   status  \\\n",
       "10757402            16349          16391      28      153        290  Running   \n",
       "10757403            16349          16391      28      153        702  Running   \n",
       "10757404            16349          16391      28      153       1215  Running   \n",
       "10757405            16349          16391      28      153       1131  Running   \n",
       "10757406            16349          16391      28      153        959  Running   \n",
       "...                   ...            ...     ...      ...        ...      ...   \n",
       "10758149            16348          16391      28      154        693  Running   \n",
       "10758150            16348          16391      28      154        884  Running   \n",
       "10758151            16348          16391      28      154        831  Running   \n",
       "10758152            16348          16391      28      154         32  Running   \n",
       "10758153            16348          16391      28      154        472  Running   \n",
       "\n",
       "          seq_no  total_seq_no  real_cpu_max  real_cpu_avg  real_mem_max  \\\n",
       "10757402       1             1          -1.0          -1.0          -1.0   \n",
       "10757403       1             1          -1.0          -1.0          -1.0   \n",
       "10757404       1             1          -1.0          -1.0          -1.0   \n",
       "10757405       1             1          -1.0          -1.0          -1.0   \n",
       "10757406       1             1          -1.0          -1.0          -1.0   \n",
       "...          ...           ...           ...           ...           ...   \n",
       "10758149       1             1          -1.0          -1.0          -1.0   \n",
       "10758150       1             1          -1.0          -1.0          -1.0   \n",
       "10758151       1             1          -1.0          -1.0          -1.0   \n",
       "10758152       1             1          -1.0          -1.0          -1.0   \n",
       "10758153       1             1          -1.0          -1.0          -1.0   \n",
       "\n",
       "          real_mem_avg  \n",
       "10757402          -1.0  \n",
       "10757403          -1.0  \n",
       "10757404          -1.0  \n",
       "10757405          -1.0  \n",
       "10757406          -1.0  \n",
       "...                ...  \n",
       "10758149          -1.0  \n",
       "10758150          -1.0  \n",
       "10758151          -1.0  \n",
       "10758152          -1.0  \n",
       "10758153          -1.0  \n",
       "\n",
       "[752 rows x 12 columns]"
      ]
     },
     "execution_count": 16,
     "metadata": {},
     "output_type": "execute_result"
    }
   ],
   "source": [
    "j_28"
   ]
  },
  {
   "cell_type": "code",
   "execution_count": null,
   "id": "6bc38caf",
   "metadata": {},
   "outputs": [],
   "source": []
  }
 ],
 "metadata": {
  "kernelspec": {
   "display_name": "Python 3 (ipykernel)",
   "language": "python",
   "name": "python3"
  },
  "language_info": {
   "codemirror_mode": {
    "name": "ipython",
    "version": 3
   },
   "file_extension": ".py",
   "mimetype": "text/x-python",
   "name": "python",
   "nbconvert_exporter": "python",
   "pygments_lexer": "ipython3",
   "version": "3.9.10"
  }
 },
 "nbformat": 4,
 "nbformat_minor": 5
}
