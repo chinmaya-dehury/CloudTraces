{
 "cells": [
  {
   "cell_type": "code",
   "execution_count": 1,
   "id": "1dea2ee6",
   "metadata": {},
   "outputs": [],
   "source": [
    "import dask.dataframe as dd"
   ]
  },
  {
   "cell_type": "markdown",
   "id": "0f50bf22",
   "metadata": {},
   "source": [
    "# JOB WORKLOADS"
   ]
  },
  {
   "cell_type": "markdown",
   "id": "ed529cb9",
   "metadata": {},
   "source": [
    "## Importing data"
   ]
  },
  {
   "cell_type": "code",
   "execution_count": 2,
   "id": "ff968e9e",
   "metadata": {},
   "outputs": [],
   "source": [
    "column_names_s17 = [\n",
    "  \"create_timestamp\",\n",
    "  \"modify_timestamp\",\n",
    "  \"job_id\",\n",
    "  \"task_id\",\n",
    "  \"instance_num\",\n",
    "  \"status\",\n",
    "  \"plan_cpu\",\n",
    "  \"plan_mem\"\n",
    "]\n",
    "\n",
    "column_types_s17 = {\n",
    "  column_names_s17[0]: 'int64',\n",
    "  column_names_s17[1]: 'int64',\n",
    "  column_names_s17[2]: 'int32',\n",
    "  column_names_s17[3]: 'int32',\n",
    "  column_names_s17[4]: 'int64',\n",
    "  column_names_s17[5]: 'string',\n",
    "  column_names_s17[6]: 'float32',\n",
    "  column_names_s17[7]: 'float64',\n",
    "}\n",
    "\n",
    "df_s17 = dd.read_csv('./s17_batch_task.csv', blocksize=25e8, names=column_types_s17, dtype=column_types_s17)"
   ]
  },
  {
   "cell_type": "code",
   "execution_count": 4,
   "id": "ec1437bc",
   "metadata": {},
   "outputs": [],
   "source": [
    "\n",
    "column_names_s18 = [\n",
    "    \"start_timestamp\",\n",
    "    \"end_timestamp\",\n",
    "    \"job_id\",\n",
    "    \"task_id\",\n",
    "    \"machineID\",\n",
    "    \"status\",\n",
    "    \"seq_no\",\n",
    "    \"total_seq_no\",\n",
    "    \"real_cpu_max\",\n",
    "    \"real_cpu_avg\",\n",
    "    \"real_mem_max\",\n",
    "    \"real_mem_avg\",\n",
    "]\n",
    "\n",
    "column_types_s18_i = {\n",
    "    column_names_s18[0]: object,\n",
    "    column_names_s18[1]: object,\n",
    "    column_names_s18[2]: object,\n",
    "    column_names_s18[3]: object,\n",
    "    column_names_s18[4]: object,\n",
    "    column_names_s18[5]: object,\n",
    "    column_names_s18[6]: object,\n",
    "    column_names_s18[7]: object,\n",
    "    column_names_s18[8]: object,\n",
    "    column_names_s18[9]: object,\n",
    "    column_names_s18[10]: object,\n",
    "    column_names_s18[11]: object,\n",
    "}\n",
    "\n",
    "df_s18_i = dd.read_csv('./s18_batch_instance.csv', blocksize=25e8, names=column_names_s18, dtype=column_types_s18_i)\n",
    "\n",
    "column_types_s18 = {\n",
    "    column_names_s18[0]: 'int64',\n",
    "    column_names_s18[1]: 'int64',\n",
    "    column_names_s18[2]: 'int32',\n",
    "    column_names_s18[3]: 'int32',\n",
    "    column_names_s18[4]: 'int32',\n",
    "    column_names_s18[5]: object,\n",
    "    column_names_s18[6]: 'int32',\n",
    "    column_names_s18[7]: 'int32',\n",
    "    column_names_s18[8]: 'float32',\n",
    "    column_names_s18[9]: 'float32',\n",
    "    column_names_s18[10]: 'float64',\n",
    "    column_names_s18[11]: 'float64',\n",
    "}\n",
    "\n",
    "df_s18 = df_s18_i.fillna(-1).astype(column_types_s18)"
   ]
  },
  {
   "cell_type": "code",
   "execution_count": null,
   "id": "f56c3fe3",
   "metadata": {},
   "outputs": [],
   "source": [
    "# df_s17.shape[0].compute()\n",
    "\n",
    "# df_s17['job_id'].nunique().compute()\n",
    "\n",
    "# df_s17.query('job_id == ').compute()"
   ]
  },
  {
   "cell_type": "markdown",
   "id": "9f7d2cd4",
   "metadata": {},
   "source": [
    "## Numbers in Brief"
   ]
  },
  {
   "cell_type": "code",
   "execution_count": 5,
   "id": "33324d12",
   "metadata": {},
   "outputs": [],
   "source": [
    "tasks_per_job = df_s17.groupby('job_id')['task_id'].count()"
   ]
  },
  {
   "cell_type": "code",
   "execution_count": 6,
   "id": "11632c06",
   "metadata": {},
   "outputs": [],
   "source": [
    "tasks_per_job_mean = tasks_per_job.mean().compute()\n",
    "tasks_per_job_max = tasks_per_job.max().compute()\n",
    "tasks_per_job_min = tasks_per_job.min().compute()"
   ]
  },
  {
   "cell_type": "markdown",
   "id": "7f541bec",
   "metadata": {},
   "source": [
    "### Tasks per Job"
   ]
  },
  {
   "cell_type": "code",
   "execution_count": 7,
   "id": "7f6784f6",
   "metadata": {},
   "outputs": [
    {
     "data": {
      "text/plain": [
       "(6.219828584665277, 156, 1)"
      ]
     },
     "execution_count": 7,
     "metadata": {},
     "output_type": "execute_result"
    }
   ],
   "source": [
    "tasks_per_job_mean, tasks_per_job_max, tasks_per_job_min"
   ]
  },
  {
   "cell_type": "code",
   "execution_count": 10,
   "id": "b991a3ca",
   "metadata": {},
   "outputs": [
    {
     "data": {
      "text/html": [
       "<div>\n",
       "<style scoped>\n",
       "    .dataframe tbody tr th:only-of-type {\n",
       "        vertical-align: middle;\n",
       "    }\n",
       "\n",
       "    .dataframe tbody tr th {\n",
       "        vertical-align: top;\n",
       "    }\n",
       "\n",
       "    .dataframe thead th {\n",
       "        text-align: right;\n",
       "    }\n",
       "</style>\n",
       "<table border=\"1\" class=\"dataframe\">\n",
       "  <thead>\n",
       "    <tr style=\"text-align: right;\">\n",
       "      <th></th>\n",
       "      <th>create_timestamp</th>\n",
       "      <th>modify_timestamp</th>\n",
       "      <th>job_id</th>\n",
       "      <th>task_id</th>\n",
       "      <th>instance_num</th>\n",
       "      <th>status</th>\n",
       "      <th>plan_cpu</th>\n",
       "      <th>plan_mem</th>\n",
       "    </tr>\n",
       "  </thead>\n",
       "  <tbody>\n",
       "    <tr>\n",
       "      <th>35656</th>\n",
       "      <td>2864</td>\n",
       "      <td>2943</td>\n",
       "      <td>2</td>\n",
       "      <td>2</td>\n",
       "      <td>15740</td>\n",
       "      <td>Terminated</td>\n",
       "      <td>50.0</td>\n",
       "      <td>0.007947</td>\n",
       "    </tr>\n",
       "  </tbody>\n",
       "</table>\n",
       "</div>"
      ],
      "text/plain": [
       "       create_timestamp  modify_timestamp  job_id  task_id  instance_num  \\\n",
       "35656              2864              2943       2        2         15740   \n",
       "\n",
       "           status  plan_cpu  plan_mem  \n",
       "35656  Terminated      50.0  0.007947  "
      ]
     },
     "execution_count": 10,
     "metadata": {},
     "output_type": "execute_result"
    }
   ],
   "source": [
    "df_s17.query('task_id == 2').compute()"
   ]
  },
  {
   "cell_type": "code",
   "execution_count": 11,
   "id": "96a7c980",
   "metadata": {},
   "outputs": [],
   "source": [
    "instances_per_task = df_s17.groupby('task_id')['instance_num'].sum()"
   ]
  },
  {
   "cell_type": "code",
   "execution_count": 15,
   "id": "7ad43ce1",
   "metadata": {},
   "outputs": [],
   "source": [
    "instances_per_task_mean = instances_per_task.mean().compute()\n",
    "instances_per_task_max = instances_per_task.max().compute()\n",
    "instances_per_task_min = instances_per_task.min().compute()"
   ]
  },
  {
   "cell_type": "markdown",
   "id": "2641a585",
   "metadata": {},
   "source": [
    "### Instances per Task"
   ]
  },
  {
   "cell_type": "code",
   "execution_count": 26,
   "id": "46d32b85",
   "metadata": {},
   "outputs": [
    {
     "data": {
      "text/plain": [
       "(147.84453713704022, 64486, 1)"
      ]
     },
     "execution_count": 26,
     "metadata": {},
     "output_type": "execute_result"
    }
   ],
   "source": [
    "instances_per_task_mean, instances_per_task_max, instances_per_task_min"
   ]
  },
  {
   "cell_type": "code",
   "execution_count": 19,
   "id": "54b088fb",
   "metadata": {},
   "outputs": [],
   "source": [
    "instances_per_job = df_s17.groupby('job_id')['instance_num'].sum()"
   ]
  },
  {
   "cell_type": "code",
   "execution_count": 20,
   "id": "760999aa",
   "metadata": {},
   "outputs": [],
   "source": [
    "instances_per_job_mean = instances_per_job.mean().compute()\n",
    "instances_per_job_max = instances_per_job.max().compute()\n",
    "instances_per_job_min = instances_per_job.min().compute()"
   ]
  },
  {
   "cell_type": "markdown",
   "id": "5a7f0772",
   "metadata": {},
   "source": [
    "## Instances per Job"
   ]
  },
  {
   "cell_type": "code",
   "execution_count": 21,
   "id": "615c4f51",
   "metadata": {},
   "outputs": [
    {
     "data": {
      "text/plain": [
       "(919.5676781715698, 66632, 1)"
      ]
     },
     "execution_count": 21,
     "metadata": {},
     "output_type": "execute_result"
    }
   ],
   "source": [
    "instances_per_job_mean, instances_per_job_max, instances_per_job_min"
   ]
  },
  {
   "cell_type": "markdown",
   "id": "10447bf1",
   "metadata": {},
   "source": [
    "### Total Jobs in Alibaba 2017 data for job traces"
   ]
  },
  {
   "cell_type": "code",
   "execution_count": 22,
   "id": "7fcf5726",
   "metadata": {},
   "outputs": [
    {
     "data": {
      "text/plain": [
       "12951"
      ]
     },
     "execution_count": 22,
     "metadata": {},
     "output_type": "execute_result"
    }
   ],
   "source": [
    "no_of_jobs_in_alibaba_17 = df_s17['job_id'].nunique().compute()\n",
    "no_of_jobs_in_alibaba_17"
   ]
  },
  {
   "cell_type": "code",
   "execution_count": null,
   "id": "377cbeae",
   "metadata": {},
   "outputs": [],
   "source": [
    "total_vms = df_s18['machineID'].unique().compute()"
   ]
  },
  {
   "cell_type": "markdown",
   "id": "1f03b401",
   "metadata": {},
   "source": [
    "### Total no of VMs in Alibaba 2017 data for job traces"
   ]
  },
  {
   "cell_type": "code",
   "execution_count": 25,
   "id": "4de08092",
   "metadata": {},
   "outputs": [
    {
     "data": {
      "text/plain": [
       "1294"
      ]
     },
     "execution_count": 25,
     "metadata": {},
     "output_type": "execute_result"
    }
   ],
   "source": [
    "total_vms.count()"
   ]
  },
  {
   "cell_type": "code",
   "execution_count": null,
   "id": "0a3a2d4c",
   "metadata": {},
   "outputs": [],
   "source": []
  }
 ],
 "metadata": {
  "kernelspec": {
   "display_name": "Python 3 (ipykernel)",
   "language": "python",
   "name": "python3"
  },
  "language_info": {
   "codemirror_mode": {
    "name": "ipython",
    "version": 3
   },
   "file_extension": ".py",
   "mimetype": "text/x-python",
   "name": "python",
   "nbconvert_exporter": "python",
   "pygments_lexer": "ipython3",
   "version": "3.9.10"
  }
 },
 "nbformat": 4,
 "nbformat_minor": 5
}
